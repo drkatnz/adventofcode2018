{
 "cells": [
  {
   "cell_type": "raw",
   "metadata": {},
   "source": [
    "--- Day 11: Chronal Charge ---\n",
    "\n",
    "You watch the Elves and their sleigh fade into the distance as they head toward the North Pole.\n",
    "\n",
    "Actually, you're the one fading. The falling sensation returns.\n",
    "\n",
    "The low fuel warning light is illuminated on your wrist-mounted device. Tapping it once causes it to project a hologram of the situation: a 300x300 grid of fuel cells and their current power levels, some negative. You're not sure what negative power means in the context of time travel, but it can't be good.\n",
    "\n",
    "Each fuel cell has a coordinate ranging from 1 to 300 in both the X (horizontal) and Y (vertical) direction. In X,Y notation, the top-left cell is 1,1, and the top-right cell is 300,1.\n",
    "\n",
    "The interface lets you select any 3x3 square of fuel cells. To increase your chances of getting to your destination, you decide to choose the 3x3 square with the largest total power.\n",
    "\n",
    "The power level in a given fuel cell can be found through the following process:\n",
    "\n",
    "    Find the fuel cell's rack ID, which is its X coordinate plus 10.\n",
    "    Begin with a power level of the rack ID times the Y coordinate.\n",
    "    Increase the power level by the value of the grid serial number (your puzzle input).\n",
    "    Set the power level to itself multiplied by the rack ID.\n",
    "    Keep only the hundreds digit of the power level (so 12345 becomes 3; numbers with no hundreds digit become 0).\n",
    "    Subtract 5 from the power level.\n",
    "\n",
    "For example, to find the power level of the fuel cell at 3,5 in a grid with serial number 8:\n",
    "\n",
    "    The rack ID is 3 + 10 = 13.\n",
    "    The power level starts at 13 * 5 = 65.\n",
    "    Adding the serial number produces 65 + 8 = 73.\n",
    "    Multiplying by the rack ID produces 73 * 13 = 949.\n",
    "    The hundreds digit of 949 is 9.\n",
    "    Subtracting 5 produces 9 - 5 = 4.\n",
    "\n",
    "So, the power level of this fuel cell is 4.\n",
    "\n",
    "Here are some more example power levels:\n",
    "\n",
    "    Fuel cell at  122,79, grid serial number 57: power level -5.\n",
    "    Fuel cell at 217,196, grid serial number 39: power level  0.\n",
    "    Fuel cell at 101,153, grid serial number 71: power level  4.\n",
    "\n",
    "Your goal is to find the 3x3 square which has the largest total power. The square must be entirely within the 300x300 grid. Identify this square using the X,Y coordinate of its top-left fuel cell. For example:\n",
    "\n",
    "For grid serial number 18, the largest total 3x3 square has a top-left corner of 33,45 (with a total power of 29); these fuel cells appear in the middle of this 5x5 region:\n",
    "\n",
    "-2  -4   4   4   4\n",
    "-4   4   4   4  -5\n",
    " 4   3   3   4  -4\n",
    " 1   1   2   4  -3\n",
    "-1   0   2  -5  -2\n",
    "\n",
    "For grid serial number 42, the largest 3x3 square's top-left is 21,61 (with a total power of 30); they are in the middle of this region:\n",
    "\n",
    "-3   4   2   2   2\n",
    "-4   4   3   3   4\n",
    "-5   3   3   4  -4\n",
    " 4   3   3   4  -3\n",
    " 3   3   3  -5  -1\n",
    "\n",
    "What is the X,Y coordinate of the top-left fuel cell of the 3x3 square with the largest total power?\n",
    "\n",
    "Your puzzle input is 5034."
   ]
  },
  {
   "cell_type": "code",
   "execution_count": 5,
   "metadata": {},
   "outputs": [
    {
     "name": "stdout",
     "output_type": "stream",
     "text": [
      "4\n",
      "-5\n"
     ]
    }
   ],
   "source": [
    "def get_power(x, y, serial):\n",
    "    # Find the fuel cell's rack ID, which is its X coordinate plus 10.\n",
    "    rack_id = x + 10\n",
    "    # Begin with a power level of the rack ID times the Y coordinate.\n",
    "    power = rack_id * y\n",
    "    # Increase the power level by the value of the grid serial number (your puzzle input).\n",
    "    power = power + serial\n",
    "    # Set the power level to itself multiplied by the rack ID.\n",
    "    power = power * rack_id\n",
    "    #  Keep only the hundreds digit of the power level (so 12345 becomes 3; numbers with no hundreds digit become 0).\n",
    "    power = power + 1000\n",
    "    pow_string = str(power)\n",
    "    hundreth = int(pow_string[len(pow_string) - 3:len(pow_string) - 2])\n",
    "    #Subtract 5 from the power level.\n",
    "    power = hundreth - 5\n",
    "    return power\n",
    "\n",
    "print(get_power(3,5,8))  #4\n",
    "print(get_power(122,79,57)) #-5"
   ]
  },
  {
   "cell_type": "code",
   "execution_count": 6,
   "metadata": {},
   "outputs": [],
   "source": [
    "import numpy as np\n",
    "\n",
    "def fill_grid(serial, width=300, height=300):\n",
    "    grid = np.zeros([width, height])\n",
    "    for x in range(width):\n",
    "        for y in range(height):\n",
    "            grid[x][y] = get_power(x + 1, y + 1, serial)\n",
    "            \n",
    "    return grid\n",
    "\n",
    "grid = fill_grid(5034)"
   ]
  },
  {
   "cell_type": "code",
   "execution_count": 12,
   "metadata": {},
   "outputs": [
    {
     "name": "stdout",
     "output_type": "stream",
     "text": [
      "(21, 61)\n",
      "(33, 45)\n"
     ]
    }
   ],
   "source": [
    "from scipy.signal import convolve2d\n",
    "\n",
    "def solve(grid):\n",
    "    square = np.ones([3,3])\n",
    "    convolved = convolve2d(grid, square, mode='valid', boundary='fill', fillvalue=0)\n",
    "    max_value = -1000\n",
    "    maxx = 0\n",
    "    maxy = 0\n",
    "    for x in range(len(convolved)):\n",
    "        for y in range(len(convolved[0])):\n",
    "            if convolved[x][y] > max_value:\n",
    "                max_value = convolved[x][y]\n",
    "                maxx = x + 1\n",
    "                maxy = y + 1\n",
    "    return maxx, maxy\n",
    "\n",
    "print(solve(fill_grid(42))) #21, 61\n",
    "print(solve(fill_grid(18))) #33,45"
   ]
  },
  {
   "cell_type": "code",
   "execution_count": 13,
   "metadata": {},
   "outputs": [
    {
     "name": "stdout",
     "output_type": "stream",
     "text": [
      "(235, 63)\n"
     ]
    }
   ],
   "source": [
    "print(solve(fill_grid(5034)))"
   ]
  },
  {
   "cell_type": "raw",
   "metadata": {},
   "source": [
    "--- Part Two ---\n",
    "\n",
    "You discover a dial on the side of the device; it seems to let you select a square of any size, not just 3x3. Sizes from 1x1 to 300x300 are supported.\n",
    "\n",
    "Realizing this, you now must find the square of any size with the largest total power. Identify this square by including its size as a third parameter after the top-left coordinate: a 9x9 square with a top-left corner of 3,5 is identified as 3,5,9.\n",
    "\n",
    "For example:\n",
    "\n",
    "    For grid serial number 18, the largest total square (with a total power of 113) is 16x16 and has a top-left corner of 90,269, so its identifier is 90,269,16.\n",
    "    For grid serial number 42, the largest total square (with a total power of 119) is 12x12 and has a top-left corner of 232,251, so its identifier is 232,251,12.\n",
    "\n",
    "What is the X,Y,size identifier of the square with the largest total power?\n"
   ]
  },
  {
   "cell_type": "code",
   "execution_count": 15,
   "metadata": {},
   "outputs": [
    {
     "name": "stdout",
     "output_type": "stream",
     "text": [
      "20\n",
      "40\n",
      "60\n",
      "80\n",
      "100\n",
      "120\n",
      "140\n",
      "160\n",
      "180\n",
      "200\n",
      "220\n",
      "240\n",
      "260\n",
      "280\n",
      "300\n",
      "Result (90, 269, 16)\n",
      "20\n",
      "40\n",
      "60\n",
      "80\n",
      "100\n",
      "120\n",
      "140\n",
      "160\n",
      "180\n",
      "200\n",
      "220\n",
      "240\n",
      "260\n",
      "280\n",
      "300\n",
      "Result (232, 251, 12)\n"
     ]
    }
   ],
   "source": [
    "def solve2(grid):\n",
    "    max_value = -10000000\n",
    "    maxx = 0\n",
    "    maxy = 0\n",
    "    maxs = 1\n",
    "    for s in range(1,301):\n",
    "        if s % 20 == 0:\n",
    "            print(s)\n",
    "        square = np.ones([s,s])\n",
    "        convolved = convolve2d(grid, square, mode='valid', boundary='fill', fillvalue=0)\n",
    "        for x in range(len(convolved)):\n",
    "            for y in range(len(convolved[0])):\n",
    "                if convolved[x][y] > max_value:\n",
    "                    max_value = convolved[x][y]\n",
    "                    maxx = x + 1\n",
    "                    maxy = y + 1\n",
    "                    maxs = s\n",
    "    return maxx, maxy, maxs\n",
    "\n",
    "print('Result', solve2(fill_grid(18))) #90,269,16\n",
    "print('Result', solve2(fill_grid(42))) #232,251,12"
   ]
  },
  {
   "cell_type": "code",
   "execution_count": 16,
   "metadata": {},
   "outputs": [
    {
     "name": "stdout",
     "output_type": "stream",
     "text": [
      "20\n",
      "40\n",
      "60\n",
      "80\n",
      "100\n",
      "120\n",
      "140\n",
      "160\n",
      "180\n",
      "200\n",
      "220\n",
      "240\n",
      "260\n",
      "280\n",
      "300\n",
      "(229, 251, 16)\n"
     ]
    }
   ],
   "source": [
    "print(solve2(fill_grid(5034)))"
   ]
  },
  {
   "cell_type": "code",
   "execution_count": null,
   "metadata": {},
   "outputs": [],
   "source": []
  }
 ],
 "metadata": {
  "kernelspec": {
   "display_name": "Python 3",
   "language": "python",
   "name": "python3"
  },
  "language_info": {
   "codemirror_mode": {
    "name": "ipython",
    "version": 3
   },
   "file_extension": ".py",
   "mimetype": "text/x-python",
   "name": "python",
   "nbconvert_exporter": "python",
   "pygments_lexer": "ipython3",
   "version": "3.6.5"
  }
 },
 "nbformat": 4,
 "nbformat_minor": 2
}
