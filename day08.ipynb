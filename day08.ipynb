{
 "cells": [
  {
   "cell_type": "raw",
   "metadata": {},
   "source": [
    "--- Day 8: Memory Maneuver ---\n",
    "\n",
    "The sleigh is much easier to pull than you'd expect for something its weight. Unfortunately, neither you nor the Elves know which way the North Pole is from here.\n",
    "\n",
    "You check your wrist device for anything that might help. It seems to have some kind of navigation system! Activating the navigation system produces more bad news: \"Failed to start navigation system. Could not read software license file.\"\n",
    "\n",
    "The navigation system's license file consists of a list of numbers (your puzzle input). The numbers define a data structure which, when processed, produces some kind of tree that can be used to calculate the license number.\n",
    "\n",
    "The tree is made up of nodes; a single, outermost node forms the tree's root, and it contains all other nodes in the tree (or contains nodes that contain nodes, and so on).\n",
    "\n",
    "Specifically, a node consists of:\n",
    "\n",
    "    A header, which is always exactly two numbers:\n",
    "        The quantity of child nodes.\n",
    "        The quantity of metadata entries.\n",
    "    Zero or more child nodes (as specified in the header).\n",
    "    One or more metadata entries (as specified in the header).\n",
    "\n",
    "Each child node is itself a node that has its own header, child nodes, and metadata. For example:\n",
    "\n",
    "2 3 0 3 10 11 12 1 1 0 1 99 2 1 1 2\n",
    "A----------------------------------\n",
    "    B----------- C-----------\n",
    "                     D-----\n",
    "\n",
    "In this example, each node of the tree is also marked with an underline starting with a letter for easier identification. In it, there are four nodes:\n",
    "\n",
    "    A, which has 2 child nodes (B, C) and 3 metadata entries (1, 1, 2).\n",
    "    B, which has 0 child nodes and 3 metadata entries (10, 11, 12).\n",
    "    C, which has 1 child node (D) and 1 metadata entry (2).\n",
    "    D, which has 0 child nodes and 1 metadata entry (99).\n",
    "\n",
    "The first check done on the license file is to simply add up all of the metadata entries. In this example, that sum is 1+1+2+10+11+12+2+99=138.\n",
    "\n",
    "What is the sum of all metadata entries?\n"
   ]
  },
  {
   "cell_type": "code",
   "execution_count": 1,
   "metadata": {},
   "outputs": [
    {
     "name": "stdout",
     "output_type": "stream",
     "text": [
      "9 11 6 2 4\n"
     ]
    }
   ],
   "source": [
    "example_input = \"\"\"2 3 0 3 10 11 12 1 1 0 1 99 2 1 1 2\"\"\"\n",
    "\n",
    "with open('input/day08.txt', 'r') as f:\n",
    "    actual_input = f.read()\n",
    "    \n",
    "actual_input = actual_input.strip()\n",
    "    \n",
    "print(actual_input[0:10])"
   ]
  },
  {
   "cell_type": "code",
   "execution_count": 2,
   "metadata": {},
   "outputs": [
    {
     "name": "stdout",
     "output_type": "stream",
     "text": [
      "138\n",
      "45865\n"
     ]
    }
   ],
   "source": [
    "import numpy as np\n",
    "\n",
    "\n",
    "class Node:\n",
    "    def __init__(self, child_count, metadata_count):\n",
    "        self.children = [None] * child_count\n",
    "        self.metadata = [None] * metadata_count\n",
    "    \n",
    "    def add_child(self, child, position):\n",
    "        self.children[position] = child\n",
    "    \n",
    "    def add_metadata(self, metadata):\n",
    "        self.metadata = metadata\n",
    "        \n",
    "    def sum_metadata(self):\n",
    "        return np.sum([int(i) for i in self.metadata])\n",
    "    \n",
    "    def get_children(self):\n",
    "        return self.children\n",
    "    \n",
    "    def get_metadata(self):\n",
    "        return self.metadata\n",
    "        \n",
    "        \n",
    "def parse_input(input, position = 0):\n",
    "    \n",
    "    num_children = int(input[position])\n",
    "    num_metadata = int(input[position + 1])\n",
    "    node = Node(num_children, num_metadata)\n",
    "    position += 2\n",
    "    \n",
    "    for i in range(num_children):\n",
    "        child, position = parse_input(input, position)\n",
    "        node.add_child(child, i)\n",
    "        \n",
    "    node.add_metadata(input[position:position + num_metadata])\n",
    "    position += num_metadata\n",
    "    return node, position\n",
    "\n",
    "def total_metadata(root):\n",
    "    total = 0\n",
    "    for i in range(len(root.get_children())):\n",
    "        total += total_metadata(root.children[i])\n",
    "        \n",
    "    return total + root.sum_metadata()\n",
    "    \n",
    "\n",
    "root, _ = parse_input(example_input.strip().split(' '))\n",
    "print(total_metadata(root))\n",
    "\n",
    "\n",
    "root, _ = parse_input(actual_input.strip().split(' '))\n",
    "print(total_metadata(root))\n"
   ]
  },
  {
   "cell_type": "raw",
   "metadata": {},
   "source": [
    "--- Part Two ---\n",
    "\n",
    "The second check is slightly more complicated: you need to find the value of the root node (A in the example above).\n",
    "\n",
    "The value of a node depends on whether it has child nodes.\n",
    "\n",
    "If a node has no child nodes, its value is the sum of its metadata entries. So, the value of node B is 10+11+12=33, and the value of node D is 99.\n",
    "\n",
    "However, if a node does have child nodes, the metadata entries become indexes which refer to those child nodes. A metadata entry of 1 refers to the first child node, 2 to the second, 3 to the third, and so on. The value of this node is the sum of the values of the child nodes referenced by the metadata entries. If a referenced child node does not exist, that reference is skipped. A child node can be referenced multiple time and counts each time it is referenced. A metadata entry of 0 does not refer to any child node.\n",
    "\n",
    "For example, again using the above nodes:\n",
    "\n",
    "    Node C has one metadata entry, 2. Because node C has only one child node, 2 references a child node which does not exist, and so the value of node C is 0.\n",
    "    Node A has three metadata entries: 1, 1, and 2. The 1 references node A's first child node, B, and the 2 references node A's second child node, C. Because node B has a value of 33 and node C has a value of 0, the value of node A is 33+33+0=66.\n",
    "\n",
    "So, in this example, the value of the root node is 66.\n",
    "\n",
    "What is the value of the root node?\n"
   ]
  },
  {
   "cell_type": "code",
   "execution_count": 3,
   "metadata": {},
   "outputs": [
    {
     "name": "stdout",
     "output_type": "stream",
     "text": [
      "66\n"
     ]
    }
   ],
   "source": [
    "def total_metadata2(root):\n",
    "  \n",
    "    if len(root.get_children()) == 0:\n",
    "        return root.sum_metadata()\n",
    "    else:\n",
    "        total = 0\n",
    "        allmeta = root.get_metadata()\n",
    "        allchild = root.get_children()\n",
    "        for i in range(len(allmeta)):\n",
    "            meta = int(allmeta[i]) - 1\n",
    "            if meta >= 0 and meta < len(allchild):\n",
    "                total += total_metadata2(allchild[meta])\n",
    "        return total\n",
    "            \n",
    "        \n",
    "\n",
    "    \n",
    "root, _ = parse_input(example_input.strip().split(' '))\n",
    "print(total_metadata2(root))"
   ]
  },
  {
   "cell_type": "code",
   "execution_count": 4,
   "metadata": {},
   "outputs": [
    {
     "name": "stdout",
     "output_type": "stream",
     "text": [
      "22608\n"
     ]
    }
   ],
   "source": [
    "root, _ = parse_input(actual_input.strip().split(' '))\n",
    "print(total_metadata2(root))"
   ]
  },
  {
   "cell_type": "code",
   "execution_count": null,
   "metadata": {},
   "outputs": [],
   "source": []
  }
 ],
 "metadata": {
  "kernelspec": {
   "display_name": "Python 3",
   "language": "python",
   "name": "python3"
  },
  "language_info": {
   "codemirror_mode": {
    "name": "ipython",
    "version": 3
   },
   "file_extension": ".py",
   "mimetype": "text/x-python",
   "name": "python",
   "nbconvert_exporter": "python",
   "pygments_lexer": "ipython3",
   "version": "3.6.5"
  }
 },
 "nbformat": 4,
 "nbformat_minor": 2
}
