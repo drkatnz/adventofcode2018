{
 "cells": [
  {
   "cell_type": "raw",
   "metadata": {},
   "source": [
    "--- Day 5: Alchemical Reduction ---\n",
    "\n",
    "You've managed to sneak in to the prototype suit manufacturing lab. The Elves are making decent progress, but are still struggling with the suit's size reduction capabilities.\n",
    "\n",
    "While the very latest in 1518 alchemical technology might have solved their problem eventually, you can do better. You scan the chemical composition of the suit's material and discover that it is formed by extremely long polymers (one of which is available as your puzzle input).\n",
    "\n",
    "The polymer is formed by smaller units which, when triggered, react with each other such that two adjacent units of the same type and opposite polarity are destroyed. Units' types are represented by letters; units' polarity is represented by capitalization. For instance, r and R are units with the same type but opposite polarity, whereas r and s are entirely different types and do not react.\n",
    "\n",
    "For example:\n",
    "\n",
    "    In aA, a and A react, leaving nothing behind.\n",
    "    In abBA, bB destroys itself, leaving aA. As above, this then destroys itself, leaving nothing.\n",
    "    In abAB, no two adjacent units are of the same type, and so nothing happens.\n",
    "    In aabAAB, even though aa and AA are of the same type, their polarities match, and so nothing happens.\n",
    "\n",
    "Now, consider a larger example, dabAcCaCBAcCcaDA:\n",
    "\n",
    "dabAcCaCBAcCcaDA  The first 'cC' is removed.\n",
    "dabAaCBAcCcaDA    This creates 'Aa', which is removed.\n",
    "dabCBAcCcaDA      Either 'cC' or 'Cc' are removed (the result is the same).\n",
    "dabCBAcaDA        No further actions can be taken.\n",
    "\n",
    "After all possible reactions, the resulting polymer contains 10 units.\n",
    "\n",
    "How many units remain after fully reacting the polymer you scanned? (Note: in this puzzle and others, the input is large; if you copy/paste your input, make sure you get the whole thing.)\n"
   ]
  },
  {
   "cell_type": "code",
   "execution_count": 1,
   "metadata": {},
   "outputs": [
    {
     "name": "stdout",
     "output_type": "stream",
     "text": [
      "pQqGg\n"
     ]
    }
   ],
   "source": [
    "example_input = \"\"\"dabAcCaCBAcCcaDA\"\"\"\n",
    "\n",
    "with open('input/day05.txt', 'r') as f:\n",
    "    actual_input = f.read()\n",
    "    \n",
    "actual_input = actual_input.strip()\n",
    "    \n",
    "print(actual_input[0:5])"
   ]
  },
  {
   "cell_type": "code",
   "execution_count": 2,
   "metadata": {},
   "outputs": [
    {
     "name": "stdout",
     "output_type": "stream",
     "text": [
      "\n",
      "\n",
      "abAB\n",
      "aabAAB\n",
      "dabCBAcaDA\n",
      "\n",
      "example result: 10\n",
      "actual result: 9686\n"
     ]
    }
   ],
   "source": [
    "def trigger(input):\n",
    "    input = list(input)\n",
    "    i = 0\n",
    "    while i < len(input) - 1 and i >= 0:\n",
    "        if input[i].lower() == input[i+1].lower() and input[i] != input[i+1]:\n",
    "            #remove\n",
    "            input.pop(i)\n",
    "            input.pop(i)\n",
    "            i = i - 1\n",
    "            if i < 0:\n",
    "                i = 0\n",
    "        else:\n",
    "            i = i + 1\n",
    "    return ''.join(input)\n",
    "\n",
    "def result(input):\n",
    "    return len(trigger(input))\n",
    "\n",
    "print(trigger('aA'))\n",
    "print(trigger('abBA'))\n",
    "print(trigger('abAB'))\n",
    "print(trigger('aabAAB'))\n",
    "print(trigger('dabAcCaCBAcCcaDA'))\n",
    "\n",
    "print()\n",
    "print('example result:', result(example_input))\n",
    "print('actual result:', result(actual_input))"
   ]
  },
  {
   "cell_type": "raw",
   "metadata": {},
   "source": [
    "--- Part Two ---\n",
    "\n",
    "Time to improve the polymer.\n",
    "\n",
    "One of the unit types is causing problems; it's preventing the polymer from collapsing as much as it should. Your goal is to figure out which unit type is causing the most problems, remove all instances of it (regardless of polarity), fully react the remaining polymer, and measure its length.\n",
    "\n",
    "For example, again using the polymer dabAcCaCBAcCcaDA from above:\n",
    "\n",
    "    Removing all A/a units produces dbcCCBcCcD. Fully reacting this polymer produces dbCBcD, which has length 6.\n",
    "    Removing all B/b units produces daAcCaCAcCcaDA. Fully reacting this polymer produces daCAcaDA, which has length 8.\n",
    "    Removing all C/c units produces dabAaBAaDA. Fully reacting this polymer produces daDA, which has length 4.\n",
    "    Removing all D/d units produces abAcCaCBAcCcaA. Fully reacting this polymer produces abCBAc, which has length 6.\n",
    "\n",
    "In this example, removing all C/c units was best, producing the answer 4.\n",
    "\n",
    "What is the length of the shortest polymer you can produce by removing all units of exactly one type and fully reacting the result?\n"
   ]
  },
  {
   "cell_type": "code",
   "execution_count": 3,
   "metadata": {
    "collapsed": true
   },
   "outputs": [],
   "source": [
    "def shortest_polymer(input):\n",
    "    alphabet = set(input.lower())\n",
    "    shortest_length = len(input)\n",
    "    for letter in alphabet:\n",
    "        temp_input = input.replace(letter,'').replace(letter.upper(),'')\n",
    "        temp_len = result(temp_input)\n",
    "        if temp_len < shortest_length:\n",
    "            shortest_length = temp_len\n",
    "            \n",
    "    return shortest_length"
   ]
  },
  {
   "cell_type": "code",
   "execution_count": 4,
   "metadata": {},
   "outputs": [
    {
     "name": "stdout",
     "output_type": "stream",
     "text": [
      "4\n",
      "5524\n"
     ]
    }
   ],
   "source": [
    "print(shortest_polymer(example_input))\n",
    "print(shortest_polymer(actual_input))"
   ]
  },
  {
   "cell_type": "code",
   "execution_count": null,
   "metadata": {
    "collapsed": true
   },
   "outputs": [],
   "source": []
  }
 ],
 "metadata": {
  "kernelspec": {
   "display_name": "Python 3",
   "language": "python",
   "name": "python3"
  },
  "language_info": {
   "codemirror_mode": {
    "name": "ipython",
    "version": 3
   },
   "file_extension": ".py",
   "mimetype": "text/x-python",
   "name": "python",
   "nbconvert_exporter": "python",
   "pygments_lexer": "ipython3",
   "version": "3.6.3"
  }
 },
 "nbformat": 4,
 "nbformat_minor": 2
}
