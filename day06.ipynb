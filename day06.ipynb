{
 "cells": [
  {
   "cell_type": "raw",
   "metadata": {},
   "source": [
    "--- Day 6: Chronal Coordinates ---\n",
    "The device on your wrist beeps several times, and once again you feel like you're falling.\n",
    "\n",
    "\"Situation critical,\" the device announces. \"Destination indeterminate. Chronal interference detected. Please specify new target coordinates.\"\n",
    "\n",
    "The device then produces a list of coordinates (your puzzle input). Are they places it thinks are safe or dangerous? It recommends you check manual page 729. The Elves did not give you a manual.\n",
    "\n",
    "If they're dangerous, maybe you can minimize the danger by finding the coordinate that gives the largest distance from the other points.\n",
    "\n",
    "Using only the Manhattan distance, determine the area around each coordinate by counting the number of integer X,Y locations that are closest to that coordinate (and aren't tied in distance to any other coordinate).\n",
    "\n",
    "Your goal is to find the size of the largest area that isn't infinite. For example, consider the following list of coordinates:\n",
    "\n",
    "1, 1\n",
    "1, 6\n",
    "8, 3\n",
    "3, 4\n",
    "5, 5\n",
    "8, 9\n",
    "If we name these coordinates A through F, we can draw them on a grid, putting 0,0 at the top left:\n",
    "\n",
    "..........\n",
    ".A........\n",
    "..........\n",
    "........C.\n",
    "...D......\n",
    ".....E....\n",
    ".B........\n",
    "..........\n",
    "..........\n",
    "........F.\n",
    "This view is partial - the actual grid extends infinitely in all directions. Using the Manhattan distance, each location's closest coordinate can be determined, shown here in lowercase:\n",
    "\n",
    "aaaaa.cccc\n",
    "aAaaa.cccc\n",
    "aaaddecccc\n",
    "aadddeccCc\n",
    "..dDdeeccc\n",
    "bb.deEeecc\n",
    "bBb.eeee..\n",
    "bbb.eeefff\n",
    "bbb.eeffff\n",
    "bbb.ffffFf\n",
    "Locations shown as . are equally far from two or more coordinates, and so they don't count as being closest to any.\n",
    "\n",
    "In this example, the areas of coordinates A, B, C, and F are infinite - while not shown here, their areas extend forever outside the visible grid. However, the areas of coordinates D and E are finite: D is closest to 9 locations, and E is closest to 17 (both including the coordinate's location itself). Therefore, in this example, the size of the largest area is 17.\n",
    "\n",
    "What is the size of the largest area that isn't infinite?"
   ]
  },
  {
   "cell_type": "code",
   "execution_count": 1,
   "metadata": {},
   "outputs": [
    {
     "name": "stdout",
     "output_type": "stream",
     "text": [
      "341, 330\n",
      "8\n"
     ]
    }
   ],
   "source": [
    "example_input = \"\"\"1, 1\n",
    "1, 6\n",
    "8, 3\n",
    "3, 4\n",
    "5, 5\n",
    "8, 9\"\"\"\n",
    "\n",
    "with open('input/day06.txt', 'r') as f:\n",
    "    actual_input = f.read()\n",
    "    \n",
    "actual_input = actual_input.strip()\n",
    "    \n",
    "print(actual_input[0:10])"
   ]
  },
  {
   "cell_type": "code",
   "execution_count": 2,
   "metadata": {},
   "outputs": [
    {
     "name": "stdout",
     "output_type": "stream",
     "text": [
      "[(1, 1), (1, 6), (8, 3), (3, 4), (5, 5), (8, 9)]\n",
      "[(341, 330), (85, 214), (162, 234), (218, 246), (130, 67), (340, 41), (206, 342), (232, 295), (45, 118), (93, 132), (258, 355), (187, 302), (181, 261), (324, 246), (150, 203), (121, 351), (336, 195), (44, 265), (51, 160), (63, 133), (58, 117), (109, 276), (292, 241), (81, 56), (281, 284), (226, 104), (98, 121), (178, 234), (319, 332), (279, 234), (143, 163), (109, 333), (80, 188), (106, 242), (65, 59), (253, 137), (287, 317), (185, 50), (193, 132), (96, 319), (193, 169), (100, 155), (113, 161), (182, 82), (157, 148), (132, 67), (339, 296), (243, 208), (196, 234), (87, 335)]\n"
     ]
    }
   ],
   "source": [
    "def get_coords(input):\n",
    "    co = []\n",
    "    for row in input.split('\\n'):\n",
    "        points = row.split(',')\n",
    "        acoord = (int(points[0].strip()), int(points[1].strip()))\n",
    "        co.append(acoord)\n",
    "        \n",
    "    return co\n",
    "\n",
    "print(get_coords(example_input))\n",
    "print(get_coords(actual_input))"
   ]
  },
  {
   "cell_type": "code",
   "execution_count": 16,
   "metadata": {},
   "outputs": [
    {
     "name": "stdout",
     "output_type": "stream",
     "text": [
      "[[[(1, 1)], [(1, 1)], [(1, 1)], [(1, 1)], None, [(1, 6)], [(1, 6)], [(1, 6)], [(1, 6)]], [[(1, 1)], [(1, 1)], [(1, 1)], [(1, 1)], None, [(1, 6)], [(1, 6)], [(1, 6)], [(1, 6)]], [[(1, 1)], [(1, 1)], [(1, 1)], [(3, 4)], [(3, 4)], None, [(1, 6)], [(1, 6)], [(1, 6)]], [[(1, 1)], [(1, 1)], [(3, 4)], [(3, 4)], [(3, 4)], [(3, 4)], None, None, None], [[(1, 1)], [(1, 1)], [(3, 4)], [(3, 4)], [(3, 4)], [(5, 5)], [(5, 5)], [(5, 5)], [(5, 5)]], [None, None, [(5, 5)], [(5, 5)], [(5, 5)], [(5, 5)], [(5, 5)], [(5, 5)], [(5, 5)]], [[(8, 3)], [(8, 3)], [(8, 3)], [(8, 3)], [(5, 5)], [(5, 5)], [(5, 5)], [(5, 5)], [(8, 9)]], [[(8, 3)], [(8, 3)], [(8, 3)], [(8, 3)], [(8, 3)], [(5, 5)], [(5, 5)], [(8, 9)], [(8, 9)]]]\n"
     ]
    }
   ],
   "source": [
    "import numpy as np\n",
    "from scipy.spatial.distance import cityblock\n",
    "\n",
    "def get_dimensions(input):\n",
    "    coords = get_coords(input)\n",
    "    max_x = np.max([x[0] for x in coords])\n",
    "    max_y = np.max([x[1] for x in coords])\n",
    "    return max_x, max_y\n",
    "\n",
    "def get_closest(point, coords):\n",
    "    min_coord = [coords[0]]\n",
    "    min_distance = abs(cityblock(min_coord, point))\n",
    "    for acoord in coords[1:]:\n",
    "        #print(point, acoord, min_coord, min_distance)\n",
    "        if cityblock(acoord, point) < min_distance:\n",
    "            min_distance = abs(cityblock(acoord, point))\n",
    "            min_coord = [acoord]\n",
    "        elif cityblock(acoord, point) == min_distance:\n",
    "            min_coord.append(acoord)\n",
    "            \n",
    "    if len(min_coord) > 1:\n",
    "        return None\n",
    "    return min_coord\n",
    "\n",
    "\n",
    "def get_grid(input):\n",
    "    dimx, dimy = get_dimensions(input)\n",
    "    coords = get_coords(input)\n",
    "    #create grid\n",
    "    grid = [[' '] * dimy for i in range(dimx)]\n",
    "        \n",
    "    #fill grid\n",
    "    for x in range(dimx):\n",
    "        for y in range(dimy):       \n",
    "            #print(get_closest((x,y), coords))\n",
    "            grid[x][y] = get_closest((x,y), coords)   \n",
    "    return grid\n",
    "    \n",
    "print(get_grid(example_input))\n",
    "    \n"
   ]
  },
  {
   "cell_type": "code",
   "execution_count": 29,
   "metadata": {},
   "outputs": [
    {
     "name": "stdout",
     "output_type": "stream",
     "text": [
      "17\n",
      "5365\n"
     ]
    }
   ],
   "source": [
    "from collections import Counter\n",
    "\n",
    "def exclude_edges(grid):\n",
    "    edge_list = []\n",
    "    for x in range(len(grid)):\n",
    "        for y in range(len(grid[0])):       \n",
    "            if x == 0 or y == 0:\n",
    "                edge_list.append(grid[x][y])\n",
    "    return edge_list\n",
    "\n",
    "def calculate_most(input):\n",
    "    grid = get_grid(input)\n",
    "    edges = exclude_edges(grid)\n",
    "    counts = []\n",
    "    \n",
    "    for x in range(len(grid)):\n",
    "        for y in range(len(grid[0])): \n",
    "            if grid[x][y] not in edges and grid[x][y] is not None:\n",
    "                #count it\n",
    "                counts.append(str(grid[x][y]))\n",
    "                \n",
    "    #print(counts)\n",
    "    counter = Counter(counts)\n",
    "    return counter.most_common()[0][1]\n",
    "    \n",
    "print(calculate_most(example_input))\n",
    "print(calculate_most(actual_input))"
   ]
  },
  {
   "cell_type": "raw",
   "metadata": {},
   "source": [
    "--- Part Two ---\n",
    "On the other hand, if the coordinates are safe, maybe the best you can do is try to find a region near as many coordinates as possible.\n",
    "\n",
    "For example, suppose you want the sum of the Manhattan distance to all of the coordinates to be less than 32. For each location, add up the distances to all of the given coordinates; if the total of those distances is less than 32, that location is within the desired region. Using the same coordinates as above, the resulting region looks like this:\n",
    "\n",
    "..........\n",
    ".A........\n",
    "..........\n",
    "...###..C.\n",
    "..#D###...\n",
    "..###E#...\n",
    ".B.###....\n",
    "..........\n",
    "..........\n",
    "........F.\n",
    "In particular, consider the highlighted location 4,3 located at the top middle of the region. Its calculation is as follows, where abs() is the absolute value function:\n",
    "\n",
    "Distance to coordinate A: abs(4-1) + abs(3-1) =  5\n",
    "Distance to coordinate B: abs(4-1) + abs(3-6) =  6\n",
    "Distance to coordinate C: abs(4-8) + abs(3-3) =  4\n",
    "Distance to coordinate D: abs(4-3) + abs(3-4) =  2\n",
    "Distance to coordinate E: abs(4-5) + abs(3-5) =  3\n",
    "Distance to coordinate F: abs(4-8) + abs(3-9) = 10\n",
    "Total distance: 5 + 6 + 4 + 2 + 3 + 10 = 30\n",
    "Because the total distance to all coordinates (30) is less than 32, the location is within the region.\n",
    "\n",
    "This region, which also includes coordinates D and E, has a total size of 16.\n",
    "\n",
    "Your actual region will need to be much larger than this example, though, instead including all locations with a total distance of less than 10000.\n",
    "\n",
    "What is the size of the region containing all locations which have a total distance to all given coordinates of less than 10000?"
   ]
  },
  {
   "cell_type": "code",
   "execution_count": 38,
   "metadata": {
    "collapsed": true
   },
   "outputs": [],
   "source": [
    "def get_closest2(point, coords):\n",
    "    min_coord = [coords[0]]\n",
    "    min_distance = abs(cityblock(min_coord, point))\n",
    "    total_distance = min_distance\n",
    "    for acoord in coords[1:]:\n",
    "        adistance = abs(cityblock(acoord, point))\n",
    "        total_distance = total_distance + adistance\n",
    "            \n",
    "    return total_distance"
   ]
  },
  {
   "cell_type": "code",
   "execution_count": 44,
   "metadata": {},
   "outputs": [
    {
     "name": "stdout",
     "output_type": "stream",
     "text": [
      "16\n",
      "42513\n"
     ]
    }
   ],
   "source": [
    "def get_grid2(input):\n",
    "    dimx, dimy = get_dimensions(input)\n",
    "    coords = get_coords(input)\n",
    "    #create grid\n",
    "    grid = [[' '] * dimy for i in range(dimx)]\n",
    "        \n",
    "    #fill grid\n",
    "    for x in range(dimx):\n",
    "        for y in range(dimy):       \n",
    "            #print(get_closest((x,y), coords))\n",
    "            grid[x][y] = get_closest2((x,y), coords)   \n",
    "    return grid\n",
    "\n",
    "def calculate_most2(input, threshold=32):\n",
    "    grid = get_grid2(input)\n",
    "    counts = 0\n",
    "    \n",
    "    for x in range(len(grid)):\n",
    "        for y in range(len(grid[0])): \n",
    "            if grid[x][y] < threshold:\n",
    "                counts = counts + 1               \n",
    "\n",
    "    return counts\n",
    "    \n",
    "print(calculate_most2(example_input, 32))\n",
    "print(calculate_most2(actual_input, 10000))"
   ]
  },
  {
   "cell_type": "code",
   "execution_count": null,
   "metadata": {
    "collapsed": true
   },
   "outputs": [],
   "source": []
  }
 ],
 "metadata": {
  "kernelspec": {
   "display_name": "Python 3",
   "language": "python",
   "name": "python3"
  },
  "language_info": {
   "codemirror_mode": {
    "name": "ipython",
    "version": 3
   },
   "file_extension": ".py",
   "mimetype": "text/x-python",
   "name": "python",
   "nbconvert_exporter": "python",
   "pygments_lexer": "ipython3",
   "version": "3.6.3"
  }
 },
 "nbformat": 4,
 "nbformat_minor": 2
}
